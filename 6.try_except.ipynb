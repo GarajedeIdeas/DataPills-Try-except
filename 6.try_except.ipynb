{
 "cells": [
  {
   "cell_type": "markdown",
   "id": "155f50a1-bc1c-40b2-a772-a8f692084e83",
   "metadata": {},
   "source": [
    "# Try/except"
   ]
  },
  {
   "cell_type": "markdown",
   "id": "b29dca20-69d3-4fc0-af93-5597c342d45d",
   "metadata": {},
   "source": [
    "Los comandos try/except nos ayudan a gestionar los posibles errores que puedan tener nuestros algoritmos. \n",
    "\n",
    "Si al ejecutar un código Python encuentra un error, no será capaz de terminar el programa. Esto puede suponer un coste de tiempo y recursos. \n",
    "\n",
    "Los comandos try/except nos permiten controlar el comportamiento de Python cuando se encuentre con erorres a la hora de ejecutar el código, permitiéndonos crear excepciones que permitirán a Python llegar al final del código"
   ]
  },
  {
   "cell_type": "markdown",
   "id": "e4e78fea-2f23-4af1-8a90-fbac05ff0107",
   "metadata": {},
   "source": [
    "## Try/except en práctica"
   ]
  },
  {
   "cell_type": "markdown",
   "id": "3c41218d-3947-467a-a752-09717c9e94a1",
   "metadata": {},
   "source": [
    "Los comandos try/except se parecen mucho a los comandos if/else. Python intentará primero ejecutar el código dentro del `try` y, en caso de error, pasará a ejecutar el código dentro de `except`."
   ]
  },
  {
   "cell_type": "code",
   "execution_count": null,
   "id": "d8665a86-afe7-4f6c-8c21-3ac0df0038bf",
   "metadata": {},
   "outputs": [],
   "source": [
    "try:\n",
    "    # Algo\n",
    "except algun_tipo_de_error (opcional):\n",
    "    # Otra cosa"
   ]
  },
  {
   "cell_type": "markdown",
   "id": "8d208f43-4673-4033-8353-9df5cf492c93",
   "metadata": {},
   "source": [
    "### Ejemplo 1"
   ]
  },
  {
   "cell_type": "code",
   "execution_count": 1,
   "id": "065a7383-a1ae-410b-84a8-8d837e499bc5",
   "metadata": {
    "tags": []
   },
   "outputs": [
    {
     "ename": "NameError",
     "evalue": "name 'variable' is not defined",
     "output_type": "error",
     "traceback": [
      "\u001b[0;31m---------------------------------------------------------------------------\u001b[0m",
      "\u001b[0;31mNameError\u001b[0m                                 Traceback (most recent call last)",
      "Cell \u001b[0;32mIn[1], line 1\u001b[0m\n\u001b[0;32m----> 1\u001b[0m \u001b[38;5;28mprint\u001b[39m(\u001b[43mvariable\u001b[49m)\n",
      "\u001b[0;31mNameError\u001b[0m: name 'variable' is not defined"
     ]
    }
   ],
   "source": [
    "print(variable)"
   ]
  },
  {
   "cell_type": "markdown",
   "id": "5202c577-1fcb-451b-9fcc-c19540a88d7f",
   "metadata": {},
   "source": [
    "Podemos ver que el error es de tipo NameError. Entonces, podemos utilizar el siguiente try/except:"
   ]
  },
  {
   "cell_type": "code",
   "execution_count": 2,
   "id": "ba512e49-6006-4e42-b839-eac73ac202d7",
   "metadata": {
    "tags": []
   },
   "outputs": [
    {
     "name": "stdout",
     "output_type": "stream",
     "text": [
      "Variable no definida\n"
     ]
    },
    {
     "name": "stdin",
     "output_type": "stream",
     "text": [
      "Defina la variable, por favor me llamo javier\n"
     ]
    },
    {
     "name": "stdout",
     "output_type": "stream",
     "text": [
      "me llamo javier\n"
     ]
    }
   ],
   "source": [
    "try:\n",
    "    print(variable)\n",
    "except NameError:\n",
    "    print('Variable no definida')\n",
    "    variable = input('Defina la variable, por favor')\n",
    "    print(variable)\n",
    "    \n",
    "    "
   ]
  },
  {
   "cell_type": "markdown",
   "id": "83477c80-39c2-4303-8bff-f1e67843d791",
   "metadata": {},
   "source": [
    "### Ejemplo 2"
   ]
  },
  {
   "cell_type": "code",
   "execution_count": 3,
   "id": "1fc9fc1a-2540-4eb1-b805-7b8d4827495b",
   "metadata": {
    "tags": []
   },
   "outputs": [
    {
     "ename": "ZeroDivisionError",
     "evalue": "division by zero",
     "output_type": "error",
     "traceback": [
      "\u001b[0;31m---------------------------------------------------------------------------\u001b[0m",
      "\u001b[0;31mZeroDivisionError\u001b[0m                         Traceback (most recent call last)",
      "Cell \u001b[0;32mIn[3], line 1\u001b[0m\n\u001b[0;32m----> 1\u001b[0m \u001b[38;5;241;43m6\u001b[39;49m\u001b[38;5;241;43m/\u001b[39;49m\u001b[38;5;241;43m0\u001b[39;49m\n",
      "\u001b[0;31mZeroDivisionError\u001b[0m: division by zero"
     ]
    }
   ],
   "source": [
    "6/0"
   ]
  },
  {
   "cell_type": "code",
   "execution_count": 4,
   "id": "775ad3ff-a36e-49dc-8cbb-c6bb3abf113f",
   "metadata": {
    "tags": []
   },
   "outputs": [
    {
     "ename": "TypeError",
     "evalue": "unsupported operand type(s) for /: 'int' and 'str'",
     "output_type": "error",
     "traceback": [
      "\u001b[0;31m---------------------------------------------------------------------------\u001b[0m",
      "\u001b[0;31mTypeError\u001b[0m                                 Traceback (most recent call last)",
      "Cell \u001b[0;32mIn[4], line 1\u001b[0m\n\u001b[0;32m----> 1\u001b[0m \u001b[38;5;241;43m6\u001b[39;49m\u001b[38;5;241;43m/\u001b[39;49m\u001b[38;5;124;43m'\u001b[39;49m\u001b[38;5;124;43m3\u001b[39;49m\u001b[38;5;124;43m'\u001b[39;49m\n",
      "\u001b[0;31mTypeError\u001b[0m: unsupported operand type(s) for /: 'int' and 'str'"
     ]
    }
   ],
   "source": [
    "6/'3'"
   ]
  },
  {
   "cell_type": "code",
   "execution_count": 5,
   "id": "e0f1e8eb-71e4-4e5b-b852-7ed3b061ad43",
   "metadata": {
    "tags": []
   },
   "outputs": [
    {
     "name": "stdout",
     "output_type": "stream",
     "text": [
      "3.0\n"
     ]
    },
    {
     "ename": "ZeroDivisionError",
     "evalue": "division by zero",
     "output_type": "error",
     "traceback": [
      "\u001b[0;31m---------------------------------------------------------------------------\u001b[0m",
      "\u001b[0;31mZeroDivisionError\u001b[0m                         Traceback (most recent call last)",
      "Cell \u001b[0;32mIn[5], line 5\u001b[0m\n\u001b[1;32m      2\u001b[0m x \u001b[38;5;241m=\u001b[39m \u001b[38;5;241m6\u001b[39m\n\u001b[1;32m      4\u001b[0m \u001b[38;5;28;01mfor\u001b[39;00m divisor \u001b[38;5;129;01min\u001b[39;00m lista:\n\u001b[0;32m----> 5\u001b[0m     \u001b[38;5;28mprint\u001b[39m(\u001b[43mx\u001b[49m\u001b[38;5;241;43m/\u001b[39;49m\u001b[43mdivisor\u001b[49m)\n",
      "\u001b[0;31mZeroDivisionError\u001b[0m: division by zero"
     ]
    }
   ],
   "source": [
    "lista = [2,0,'3', 6]\n",
    "x = 6\n",
    "\n",
    "for divisor in lista:\n",
    "    print(x/divisor)"
   ]
  },
  {
   "cell_type": "markdown",
   "id": "2a3ac3d6-b9f2-418d-b0ac-7f472a1bc662",
   "metadata": {},
   "source": [
    "Podemos lanzar tantas excepts como queramos y que en cada uno dé una explicación del error"
   ]
  },
  {
   "cell_type": "code",
   "execution_count": 6,
   "id": "0b7f79f1-a90e-4844-84c5-b200d1684c4d",
   "metadata": {
    "tags": []
   },
   "outputs": [
    {
     "name": "stdout",
     "output_type": "stream",
     "text": [
      "3.0\n",
      "no se puede dividir entre 0\n",
      "no se puede dividir entre string\n",
      "1.0\n"
     ]
    }
   ],
   "source": [
    "lista = [2,0,'3', 6]\n",
    "x = 6\n",
    "\n",
    "for divisor in lista:\n",
    "    try:\n",
    "        print(x/divisor)\n",
    "        \n",
    "    except ZeroDivisionError:\n",
    "        print('no se puede dividir entre 0')\n",
    "        \n",
    "    except TypeError:\n",
    "        print('no se puede dividir entre string')\n",
    "    "
   ]
  },
  {
   "cell_type": "markdown",
   "id": "879e454e-df50-4206-8c6f-7109f0bd63c6",
   "metadata": {},
   "source": [
    "También podemos agrupar excepciones "
   ]
  },
  {
   "cell_type": "code",
   "execution_count": 7,
   "id": "fef31884-b500-4527-8882-c3dc2393f452",
   "metadata": {
    "tags": []
   },
   "outputs": [
    {
     "name": "stdout",
     "output_type": "stream",
     "text": [
      "3.0\n",
      "no se puede dividir entre estos tipos de datos\n",
      "no se puede dividir entre estos tipos de datos\n",
      "1.0\n"
     ]
    }
   ],
   "source": [
    "lista = [2,0,'3', 6]\n",
    "x = 6\n",
    "\n",
    "for divisor in lista:\n",
    "    try:\n",
    "        print(x/divisor)\n",
    "        \n",
    "    except (ZeroDivisionError, TypeError):\n",
    "        print('no se puede dividir entre estos tipos de datos')\n",
    "        \n",
    "   \n",
    "    "
   ]
  },
  {
   "cell_type": "markdown",
   "id": "f5289f25-0901-467d-84e5-3c2dfd47114f",
   "metadata": {},
   "source": [
    "Por último, también podemos dejar el except sin nada a su derecha, para que \"capture\" todo tipo de errores y excepciones.\n",
    "\n",
    "A nivel programático, no especificar el tipo de error es una mala práctica, pues se hace imposible detectar dónde está el error, por lo que tardaremos más en realizar el diagnóstico.\n"
   ]
  },
  {
   "cell_type": "code",
   "execution_count": 8,
   "id": "3cc7cbf7-e0eb-4d24-a0b3-13700154d4dd",
   "metadata": {
    "tags": []
   },
   "outputs": [
    {
     "name": "stdout",
     "output_type": "stream",
     "text": [
      "3.0\n",
      "Ha ocurrido un error\n",
      "Ha ocurrido un error\n",
      "1.0\n"
     ]
    }
   ],
   "source": [
    "lista = [2,0,'3', 6]\n",
    "x = 6\n",
    "\n",
    "for divisor in lista:\n",
    "    try:\n",
    "        print(x/divisor)\n",
    "        \n",
    "    except:\n",
    "        print('Ha ocurrido un error')\n",
    "        \n",
    "   \n",
    "    "
   ]
  },
  {
   "cell_type": "code",
   "execution_count": null,
   "id": "f50e5f2d-b23d-4406-a7f1-4f3dabccf9b8",
   "metadata": {},
   "outputs": [],
   "source": []
  }
 ],
 "metadata": {
  "kernelspec": {
   "display_name": "Python 3 (ipykernel)",
   "language": "python",
   "name": "python3"
  },
  "language_info": {
   "codemirror_mode": {
    "name": "ipython",
    "version": 3
   },
   "file_extension": ".py",
   "mimetype": "text/x-python",
   "name": "python",
   "nbconvert_exporter": "python",
   "pygments_lexer": "ipython3",
   "version": "3.10.11"
  }
 },
 "nbformat": 4,
 "nbformat_minor": 5
}
